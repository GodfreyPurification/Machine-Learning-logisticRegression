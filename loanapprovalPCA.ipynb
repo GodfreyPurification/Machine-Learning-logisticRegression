{
 "cells": [
  {
   "cell_type": "code",
   "execution_count": 71,
   "id": "0386485d-9430-4274-b493-692a7aaf8aae",
   "metadata": {},
   "outputs": [
    {
     "name": "stdout",
     "output_type": "stream",
     "text": [
      "   ID  Age  Experience  Income  ZIP.Code  Family  CCAvg  Education  Mortgage  \\\n",
      "0   1   25           1      49     91107       4    1.6          1         0   \n",
      "1   2   45          19      34     90089       3    1.5          1         0   \n",
      "2   3   39          15      11     94720       1    1.0          1         0   \n",
      "3   4   35           9     100     94112       1    2.7          2         0   \n",
      "4   5   35           8      45     91330       4    1.0          2         0   \n",
      "\n",
      "   Personal.Loan  Securities.Account  CD.Account  Online  CreditCard  \n",
      "0              0                   1           0       0           0  \n",
      "1              0                   1           0       0           0  \n",
      "2              0                   0           0       0           0  \n",
      "3              0                   0           0       0           0  \n",
      "4              0                   0           0       0           1  \n",
      "ID                      int64\n",
      "Age                     int64\n",
      "Experience              int64\n",
      "Income                  int64\n",
      "ZIP.Code                int64\n",
      "Family                  int64\n",
      "CCAvg                 float64\n",
      "Education               int64\n",
      "Mortgage                int64\n",
      "Personal.Loan           int64\n",
      "Securities.Account      int64\n",
      "CD.Account              int64\n",
      "Online                  int64\n",
      "CreditCard              int64\n",
      "dtype: object\n"
     ]
    }
   ],
   "source": [
    "import pandas as pd\n",
    "df = pd.read_csv('../dataset/bankloan.csv')\n",
    "print(df.head())\n",
    "print(df.dtypes)"
   ]
  },
  {
   "cell_type": "code",
   "execution_count": 80,
   "id": "437950ef-ea17-46fc-bc30-e4f8d2fbaeb4",
   "metadata": {},
   "outputs": [],
   "source": [
    "X = df.drop(['ID','ZIP.Code','Personal.Loan'], axis=1)  # Drop ID and ZIP.Code since they are identifiers\n",
    "y = df['Personal.Loan']"
   ]
  },
  {
   "cell_type": "raw",
   "id": "66f326b5-7020-4947-91f6-58d1d70ecf19",
   "metadata": {},
   "source": [
    "df=pd.read_csv('../dataset/bankloan.csv')\n",
    "# https://www.kaggle.com/datasets/vikramamin/bank-loan-approval-lr-dt-rf-and-auc"
   ]
  },
  {
   "cell_type": "code",
   "execution_count": 81,
   "id": "a3ab9b98-79c0-477c-bfb0-d70271e1b1ac",
   "metadata": {},
   "outputs": [
    {
     "name": "stdout",
     "output_type": "stream",
     "text": [
      "<class 'pandas.core.frame.DataFrame'>\n"
     ]
    }
   ],
   "source": [
    "print(type(X))  # should be <class 'pandas.core.frame.DataFrame'>"
   ]
  },
  {
   "cell_type": "code",
   "execution_count": 82,
   "id": "6e1b52b8-87e5-498a-b548-8bcf909e45a3",
   "metadata": {},
   "outputs": [],
   "source": [
    "from sklearn.model_selection import train_test_split\n",
    "X_train, X_test, y_train, y_test = train_test_split(X, y, test_size=0.3, random_state=0)"
   ]
  },
  {
   "cell_type": "code",
   "execution_count": 83,
   "id": "dbef1069-28ec-4c9f-867d-8dbcf78fa906",
   "metadata": {},
   "outputs": [],
   "source": [
    "from sklearn.preprocessing import StandardScaler\n",
    "scaler = StandardScaler()\n",
    "X_train_scaled = scaler.fit_transform(X_train)\n",
    "X_test_scaled = scaler.transform(X_test)\n",
    "# Re-wrap in DataFrames if needed\n",
    "X_train = pd.DataFrame(X_train_scaled, columns=X.columns)\n",
    "X_test = pd.DataFrame(X_test_scaled, columns=X.columns)"
   ]
  },
  {
   "cell_type": "raw",
   "id": "16c56a3d-c4b7-4977-bf61-8fe5ea8518c7",
   "metadata": {},
   "source": [
    "About this file\n",
    "File contains 14 columns and 5000 rows. Description of the columns are as follows:\n",
    "\n",
    "ID: Customer ID\n",
    "Age : Customer Age\n",
    "Experience : Customer Experience\n",
    "Income : Income of the Customer\n",
    "ZipCode: Customer's residence zipcode\n",
    "Family : No of Family members of the customer\n",
    "CCAvg: Credit Card Average Score\n",
    "Education: Education of the customer\n",
    "Mortgage: Mortgage taken or not taken by the customer\n",
    "Personal Loan: 0 = No personal loan given , 1 = personal loan given\n",
    "Securities Account : Having or not having a Securities Account\n",
    "CD Account : Having or not having a CD Account\n",
    "Online : Having or not having online banking\n",
    "Credit Card : Having or not having a credit card"
   ]
  },
  {
   "cell_type": "code",
   "execution_count": 84,
   "id": "aa67e60e-00fe-4ac8-9038-330406d567db",
   "metadata": {},
   "outputs": [
    {
     "data": {
      "text/html": [
       "<div>\n",
       "<style scoped>\n",
       "    .dataframe tbody tr th:only-of-type {\n",
       "        vertical-align: middle;\n",
       "    }\n",
       "\n",
       "    .dataframe tbody tr th {\n",
       "        vertical-align: top;\n",
       "    }\n",
       "\n",
       "    .dataframe thead th {\n",
       "        text-align: right;\n",
       "    }\n",
       "</style>\n",
       "<table border=\"1\" class=\"dataframe\">\n",
       "  <thead>\n",
       "    <tr style=\"text-align: right;\">\n",
       "      <th></th>\n",
       "      <th>Age</th>\n",
       "      <th>Experience</th>\n",
       "      <th>Income</th>\n",
       "      <th>Family</th>\n",
       "      <th>CCAvg</th>\n",
       "      <th>Education</th>\n",
       "      <th>Mortgage</th>\n",
       "      <th>Securities.Account</th>\n",
       "      <th>CD.Account</th>\n",
       "      <th>Online</th>\n",
       "      <th>CreditCard</th>\n",
       "    </tr>\n",
       "  </thead>\n",
       "  <tbody>\n",
       "    <tr>\n",
       "      <th>0</th>\n",
       "      <td>-0.808210</td>\n",
       "      <td>-0.786533</td>\n",
       "      <td>1.815135</td>\n",
       "      <td>-0.360176</td>\n",
       "      <td>3.333974</td>\n",
       "      <td>-1.047111</td>\n",
       "      <td>0.584589</td>\n",
       "      <td>-0.34796</td>\n",
       "      <td>-0.258356</td>\n",
       "      <td>0.826742</td>\n",
       "      <td>1.553909</td>\n",
       "    </tr>\n",
       "    <tr>\n",
       "      <th>1</th>\n",
       "      <td>1.196007</td>\n",
       "      <td>1.300750</td>\n",
       "      <td>0.604271</td>\n",
       "      <td>1.365513</td>\n",
       "      <td>0.592282</td>\n",
       "      <td>0.149783</td>\n",
       "      <td>0.594593</td>\n",
       "      <td>-0.34796</td>\n",
       "      <td>-0.258356</td>\n",
       "      <td>0.826742</td>\n",
       "      <td>-0.643538</td>\n",
       "    </tr>\n",
       "    <tr>\n",
       "      <th>2</th>\n",
       "      <td>1.108867</td>\n",
       "      <td>1.126810</td>\n",
       "      <td>-0.671461</td>\n",
       "      <td>-0.360176</td>\n",
       "      <td>-0.207378</td>\n",
       "      <td>1.346677</td>\n",
       "      <td>-0.555852</td>\n",
       "      <td>-0.34796</td>\n",
       "      <td>-0.258356</td>\n",
       "      <td>0.826742</td>\n",
       "      <td>-0.643538</td>\n",
       "    </tr>\n",
       "    <tr>\n",
       "      <th>3</th>\n",
       "      <td>0.324608</td>\n",
       "      <td>0.257109</td>\n",
       "      <td>-0.130897</td>\n",
       "      <td>-1.223021</td>\n",
       "      <td>-0.264497</td>\n",
       "      <td>0.149783</td>\n",
       "      <td>-0.555852</td>\n",
       "      <td>-0.34796</td>\n",
       "      <td>-0.258356</td>\n",
       "      <td>-1.209568</td>\n",
       "      <td>-0.643538</td>\n",
       "    </tr>\n",
       "    <tr>\n",
       "      <th>4</th>\n",
       "      <td>-1.418188</td>\n",
       "      <td>-1.482294</td>\n",
       "      <td>0.128574</td>\n",
       "      <td>1.365513</td>\n",
       "      <td>-0.093141</td>\n",
       "      <td>0.149783</td>\n",
       "      <td>-0.555852</td>\n",
       "      <td>-0.34796</td>\n",
       "      <td>-0.258356</td>\n",
       "      <td>0.826742</td>\n",
       "      <td>1.553909</td>\n",
       "    </tr>\n",
       "  </tbody>\n",
       "</table>\n",
       "</div>"
      ],
      "text/plain": [
       "        Age  Experience    Income    Family     CCAvg  Education  Mortgage  \\\n",
       "0 -0.808210   -0.786533  1.815135 -0.360176  3.333974  -1.047111  0.584589   \n",
       "1  1.196007    1.300750  0.604271  1.365513  0.592282   0.149783  0.594593   \n",
       "2  1.108867    1.126810 -0.671461 -0.360176 -0.207378   1.346677 -0.555852   \n",
       "3  0.324608    0.257109 -0.130897 -1.223021 -0.264497   0.149783 -0.555852   \n",
       "4 -1.418188   -1.482294  0.128574  1.365513 -0.093141   0.149783 -0.555852   \n",
       "\n",
       "   Securities.Account  CD.Account    Online  CreditCard  \n",
       "0            -0.34796   -0.258356  0.826742    1.553909  \n",
       "1            -0.34796   -0.258356  0.826742   -0.643538  \n",
       "2            -0.34796   -0.258356  0.826742   -0.643538  \n",
       "3            -0.34796   -0.258356 -1.209568   -0.643538  \n",
       "4            -0.34796   -0.258356  0.826742    1.553909  "
      ]
     },
     "execution_count": 84,
     "metadata": {},
     "output_type": "execute_result"
    }
   ],
   "source": [
    "X_train.head()"
   ]
  },
  {
   "cell_type": "code",
   "execution_count": 85,
   "id": "fedc1a25-1332-453b-a06a-d7a035285d33",
   "metadata": {},
   "outputs": [
    {
     "data": {
      "text/plain": [
       "2858    0\n",
       "1559    1\n",
       "1441    0\n",
       "2179    0\n",
       "1390    0\n",
       "Name: Personal.Loan, dtype: int64"
      ]
     },
     "execution_count": 85,
     "metadata": {},
     "output_type": "execute_result"
    }
   ],
   "source": [
    "y_train.head()"
   ]
  },
  {
   "cell_type": "code",
   "execution_count": 86,
   "id": "2177083b-1012-49c3-9a9e-776689993265",
   "metadata": {},
   "outputs": [
    {
     "name": "stdout",
     "output_type": "stream",
     "text": [
      "Logistic Regression accuracy score with all the features: 0.9540\n"
     ]
    }
   ],
   "source": [
    "from sklearn.linear_model import LogisticRegression\n",
    "from sklearn.metrics import accuracy_score\n",
    "logreg = LogisticRegression()\n",
    "logreg.fit(X_train, y_train)\n",
    "y_pred = logreg.predict(X_test)\n",
    "print('Logistic Regression accuracy score with all the features: {0:0.4f}'. format(accuracy_score(y_test, y_pred)))"
   ]
  },
  {
   "cell_type": "code",
   "execution_count": 87,
   "id": "cca5e649-0b64-4b3c-93bf-20f213d78117",
   "metadata": {},
   "outputs": [
    {
     "data": {
      "text/plain": [
       "array([0.18843364, 0.16701229, 0.12950184, 0.09374553, 0.09068041,\n",
       "       0.08897847, 0.08290239, 0.08203309, 0.04580291, 0.03041692,\n",
       "       0.00049249])"
      ]
     },
     "execution_count": 87,
     "metadata": {},
     "output_type": "execute_result"
    }
   ],
   "source": [
    "#Logistic Regression with PCA\n",
    "from sklearn.decomposition import PCA\n",
    "pca = PCA()\n",
    "X_train = pca.fit_transform(X_train)\n",
    "pca.explained_variance_ratio_"
   ]
  },
  {
   "cell_type": "code",
   "execution_count": 119,
   "id": "2beb771c-8bf0-44c5-932f-52c633d2853b",
   "metadata": {},
   "outputs": [],
   "source": [
    "from sklearn.model_selection import train_test_split\n",
    "from sklearn.preprocessing import StandardScaler\n",
    "\n",
    "# Set up features and target\n",
    "X = df.drop(['CCAvg', 'Mortgage'], axis=1)\n",
    "y = df['Mortgage']\n",
    "\n",
    "# Split the data\n",
    "X_train, X_test, y_train, y_test = train_test_split(X, y, test_size=0.8, random_state=0)\n",
    "\n",
    "# Drop ID and ZIP.Code (optional, as they’re identifiers)\n",
    "X_train = X_train.drop(['ID', 'ZIP.Code'], axis=1)\n",
    "X_test = X_test.drop(['ID', 'ZIP.Code'], axis=1)\n",
    "\n",
    "# Feature scaling (if needed)\n",
    "scaler = StandardScaler()\n",
    "X_train = pd.DataFrame(scaler.fit_transform(X_train), columns=X_train.columns)\n",
    "X_test = pd.DataFrame(scaler.transform(X_test), columns=X_test.columns)"
   ]
  },
  {
   "cell_type": "code",
   "execution_count": 120,
   "id": "3b5f1973-dea3-4560-a484-d6589634c2df",
   "metadata": {},
   "outputs": [
    {
     "data": {
      "text/html": [
       "<div>\n",
       "<style scoped>\n",
       "    .dataframe tbody tr th:only-of-type {\n",
       "        vertical-align: middle;\n",
       "    }\n",
       "\n",
       "    .dataframe tbody tr th {\n",
       "        vertical-align: top;\n",
       "    }\n",
       "\n",
       "    .dataframe thead th {\n",
       "        text-align: right;\n",
       "    }\n",
       "</style>\n",
       "<table border=\"1\" class=\"dataframe\">\n",
       "  <thead>\n",
       "    <tr style=\"text-align: right;\">\n",
       "      <th></th>\n",
       "      <th>Age</th>\n",
       "      <th>Experience</th>\n",
       "      <th>Income</th>\n",
       "      <th>Family</th>\n",
       "      <th>Education</th>\n",
       "      <th>Personal.Loan</th>\n",
       "      <th>Securities.Account</th>\n",
       "      <th>CD.Account</th>\n",
       "      <th>Online</th>\n",
       "      <th>CreditCard</th>\n",
       "    </tr>\n",
       "  </thead>\n",
       "  <tbody>\n",
       "    <tr>\n",
       "      <th>0</th>\n",
       "      <td>-0.187887</td>\n",
       "      <td>-0.080307</td>\n",
       "      <td>0.759818</td>\n",
       "      <td>-1.211807</td>\n",
       "      <td>-1.050557</td>\n",
       "      <td>-0.338862</td>\n",
       "      <td>-0.346151</td>\n",
       "      <td>-0.248135</td>\n",
       "      <td>-1.245400</td>\n",
       "      <td>1.587806</td>\n",
       "    </tr>\n",
       "    <tr>\n",
       "      <th>1</th>\n",
       "      <td>-0.532950</td>\n",
       "      <td>-0.509757</td>\n",
       "      <td>-0.780207</td>\n",
       "      <td>0.473599</td>\n",
       "      <td>1.353463</td>\n",
       "      <td>-0.338862</td>\n",
       "      <td>-0.346151</td>\n",
       "      <td>-0.248135</td>\n",
       "      <td>0.802955</td>\n",
       "      <td>-0.629800</td>\n",
       "    </tr>\n",
       "    <tr>\n",
       "      <th>2</th>\n",
       "      <td>-0.015355</td>\n",
       "      <td>-0.080307</td>\n",
       "      <td>0.347699</td>\n",
       "      <td>-0.369104</td>\n",
       "      <td>0.151453</td>\n",
       "      <td>-0.338862</td>\n",
       "      <td>2.888909</td>\n",
       "      <td>-0.248135</td>\n",
       "      <td>0.802955</td>\n",
       "      <td>-0.629800</td>\n",
       "    </tr>\n",
       "    <tr>\n",
       "      <th>3</th>\n",
       "      <td>-0.705482</td>\n",
       "      <td>-0.681537</td>\n",
       "      <td>0.391080</td>\n",
       "      <td>-1.211807</td>\n",
       "      <td>-1.050557</td>\n",
       "      <td>-0.338862</td>\n",
       "      <td>2.888909</td>\n",
       "      <td>-0.248135</td>\n",
       "      <td>0.802955</td>\n",
       "      <td>-0.629800</td>\n",
       "    </tr>\n",
       "    <tr>\n",
       "      <th>4</th>\n",
       "      <td>0.933568</td>\n",
       "      <td>1.036263</td>\n",
       "      <td>0.282627</td>\n",
       "      <td>-0.369104</td>\n",
       "      <td>-1.050557</td>\n",
       "      <td>-0.338862</td>\n",
       "      <td>-0.346151</td>\n",
       "      <td>-0.248135</td>\n",
       "      <td>0.802955</td>\n",
       "      <td>-0.629800</td>\n",
       "    </tr>\n",
       "  </tbody>\n",
       "</table>\n",
       "</div>"
      ],
      "text/plain": [
       "        Age  Experience    Income    Family  Education  Personal.Loan  \\\n",
       "0 -0.187887   -0.080307  0.759818 -1.211807  -1.050557      -0.338862   \n",
       "1 -0.532950   -0.509757 -0.780207  0.473599   1.353463      -0.338862   \n",
       "2 -0.015355   -0.080307  0.347699 -0.369104   0.151453      -0.338862   \n",
       "3 -0.705482   -0.681537  0.391080 -1.211807  -1.050557      -0.338862   \n",
       "4  0.933568    1.036263  0.282627 -0.369104  -1.050557      -0.338862   \n",
       "\n",
       "   Securities.Account  CD.Account    Online  CreditCard  \n",
       "0           -0.346151   -0.248135 -1.245400    1.587806  \n",
       "1           -0.346151   -0.248135  0.802955   -0.629800  \n",
       "2            2.888909   -0.248135  0.802955   -0.629800  \n",
       "3            2.888909   -0.248135  0.802955   -0.629800  \n",
       "4           -0.346151   -0.248135  0.802955   -0.629800  "
      ]
     },
     "execution_count": 120,
     "metadata": {},
     "output_type": "execute_result"
    }
   ],
   "source": [
    "X_train.head()"
   ]
  },
  {
   "cell_type": "code",
   "execution_count": 121,
   "id": "ff1e9d31-a999-4ced-b5c5-65d55addf1ae",
   "metadata": {},
   "outputs": [
    {
     "data": {
      "text/plain": [
       "3344    0\n",
       "114     0\n",
       "1816    0\n",
       "1594    0\n",
       "957     0\n",
       "Name: Mortgage, dtype: int64"
      ]
     },
     "execution_count": 121,
     "metadata": {},
     "output_type": "execute_result"
    }
   ],
   "source": [
    "y_train.head()"
   ]
  },
  {
   "cell_type": "code",
   "execution_count": 126,
   "id": "35228217-9aa8-4444-8cab-8d27370cf59e",
   "metadata": {},
   "outputs": [
    {
     "name": "stdout",
     "output_type": "stream",
     "text": [
      "Logistic Regression accuracy score for Mortgage: 0.6845\n"
     ]
    }
   ],
   "source": [
    "from sklearn.linear_model import LogisticRegression\n",
    "from sklearn.metrics import accuracy_score\n",
    "logreg = LogisticRegression()\n",
    "logreg.fit(X_train, y_train)\n",
    "y_pred = logreg.predict(X_test)\n",
    "print('Logistic Regression accuracy score for Mortgage: {0:0.4f}'. format(accuracy_score(y_test, y_pred)))"
   ]
  },
  {
   "cell_type": "code",
   "execution_count": 127,
   "id": "927f5f05-9664-44c1-8c31-6f7f35adfea7",
   "metadata": {},
   "outputs": [
    {
     "data": {
      "text/plain": [
       "array([0.2048325 , 0.17584979, 0.13100382, 0.11676841, 0.10488414,\n",
       "       0.09532387, 0.08744822, 0.04753785, 0.03584115, 0.00051026])"
      ]
     },
     "execution_count": 127,
     "metadata": {},
     "output_type": "execute_result"
    }
   ],
   "source": [
    "from sklearn.decomposition import PCA\n",
    "pca = PCA()\n",
    "X_train = pca.fit_transform(X_train)\n",
    "pca.explained_variance_ratio_"
   ]
  },
  {
   "cell_type": "code",
   "execution_count": 128,
   "id": "b870e760-6409-4c4e-b3d5-693e7917c6a1",
   "metadata": {},
   "outputs": [],
   "source": [
    "from sklearn.model_selection import train_test_split\n",
    "from sklearn.preprocessing import StandardScaler\n",
    "# Set up features and target\n",
    "X = df.drop(['Family','CreditCard'], axis=1)\n",
    "y = df['CreditCard']\n",
    "# Split the data\n",
    "X_train, X_test, y_train, y_test = train_test_split(X, y, test_size=0.8, random_state=0)\n",
    "# Drop ID and ZIP.Code (optional, as they’re identifiers)\n",
    "X_train = X_train.drop(['Age', 'Education'], axis=1)\n",
    "X_test = X_test.drop(['Age', 'Education'], axis=1)\n",
    "# Feature scaling (if needed)\n",
    "scaler = StandardScaler()\n",
    "X_train = pd.DataFrame(scaler.fit_transform(X_train), columns=X_train.columns)\n",
    "X_test = pd.DataFrame(scaler.transform(X_test), columns=X_test.columns)"
   ]
  },
  {
   "cell_type": "code",
   "execution_count": 129,
   "id": "01e00b85-4572-4238-b9ac-db75dab85b8c",
   "metadata": {},
   "outputs": [
    {
     "data": {
      "text/html": [
       "<div>\n",
       "<style scoped>\n",
       "    .dataframe tbody tr th:only-of-type {\n",
       "        vertical-align: middle;\n",
       "    }\n",
       "\n",
       "    .dataframe tbody tr th {\n",
       "        vertical-align: top;\n",
       "    }\n",
       "\n",
       "    .dataframe thead th {\n",
       "        text-align: right;\n",
       "    }\n",
       "</style>\n",
       "<table border=\"1\" class=\"dataframe\">\n",
       "  <thead>\n",
       "    <tr style=\"text-align: right;\">\n",
       "      <th></th>\n",
       "      <th>ID</th>\n",
       "      <th>Experience</th>\n",
       "      <th>Income</th>\n",
       "      <th>ZIP.Code</th>\n",
       "      <th>CCAvg</th>\n",
       "      <th>Mortgage</th>\n",
       "      <th>Personal.Loan</th>\n",
       "      <th>Securities.Account</th>\n",
       "      <th>CD.Account</th>\n",
       "      <th>Online</th>\n",
       "    </tr>\n",
       "  </thead>\n",
       "  <tbody>\n",
       "    <tr>\n",
       "      <th>0</th>\n",
       "      <td>0.589775</td>\n",
       "      <td>-0.080307</td>\n",
       "      <td>0.759818</td>\n",
       "      <td>-1.465304</td>\n",
       "      <td>0.781146</td>\n",
       "      <td>-0.558377</td>\n",
       "      <td>-0.338862</td>\n",
       "      <td>-0.346151</td>\n",
       "      <td>-0.248135</td>\n",
       "      <td>-1.245400</td>\n",
       "    </tr>\n",
       "    <tr>\n",
       "      <th>1</th>\n",
       "      <td>-1.639383</td>\n",
       "      <td>-0.509757</td>\n",
       "      <td>-0.780207</td>\n",
       "      <td>-0.487413</td>\n",
       "      <td>-0.831080</td>\n",
       "      <td>-0.558377</td>\n",
       "      <td>-0.338862</td>\n",
       "      <td>-0.346151</td>\n",
       "      <td>-0.248135</td>\n",
       "      <td>0.802955</td>\n",
       "    </tr>\n",
       "    <tr>\n",
       "      <th>2</th>\n",
       "      <td>-0.464761</td>\n",
       "      <td>-0.080307</td>\n",
       "      <td>0.347699</td>\n",
       "      <td>-0.476580</td>\n",
       "      <td>-0.163952</td>\n",
       "      <td>-0.558377</td>\n",
       "      <td>-0.338862</td>\n",
       "      <td>2.888909</td>\n",
       "      <td>-0.248135</td>\n",
       "      <td>0.802955</td>\n",
       "    </tr>\n",
       "    <tr>\n",
       "      <th>3</th>\n",
       "      <td>-0.617973</td>\n",
       "      <td>-0.681537</td>\n",
       "      <td>0.391080</td>\n",
       "      <td>-1.815406</td>\n",
       "      <td>0.447582</td>\n",
       "      <td>-0.558377</td>\n",
       "      <td>-0.338862</td>\n",
       "      <td>2.888909</td>\n",
       "      <td>-0.248135</td>\n",
       "      <td>0.802955</td>\n",
       "    </tr>\n",
       "    <tr>\n",
       "      <th>4</th>\n",
       "      <td>-1.057593</td>\n",
       "      <td>1.036263</td>\n",
       "      <td>0.282627</td>\n",
       "      <td>0.627325</td>\n",
       "      <td>-0.942268</td>\n",
       "      <td>-0.558377</td>\n",
       "      <td>-0.338862</td>\n",
       "      <td>-0.346151</td>\n",
       "      <td>-0.248135</td>\n",
       "      <td>0.802955</td>\n",
       "    </tr>\n",
       "  </tbody>\n",
       "</table>\n",
       "</div>"
      ],
      "text/plain": [
       "         ID  Experience    Income  ZIP.Code     CCAvg  Mortgage  \\\n",
       "0  0.589775   -0.080307  0.759818 -1.465304  0.781146 -0.558377   \n",
       "1 -1.639383   -0.509757 -0.780207 -0.487413 -0.831080 -0.558377   \n",
       "2 -0.464761   -0.080307  0.347699 -0.476580 -0.163952 -0.558377   \n",
       "3 -0.617973   -0.681537  0.391080 -1.815406  0.447582 -0.558377   \n",
       "4 -1.057593    1.036263  0.282627  0.627325 -0.942268 -0.558377   \n",
       "\n",
       "   Personal.Loan  Securities.Account  CD.Account    Online  \n",
       "0      -0.338862           -0.346151   -0.248135 -1.245400  \n",
       "1      -0.338862           -0.346151   -0.248135  0.802955  \n",
       "2      -0.338862            2.888909   -0.248135  0.802955  \n",
       "3      -0.338862            2.888909   -0.248135  0.802955  \n",
       "4      -0.338862           -0.346151   -0.248135  0.802955  "
      ]
     },
     "execution_count": 129,
     "metadata": {},
     "output_type": "execute_result"
    }
   ],
   "source": [
    "X_train.head()"
   ]
  },
  {
   "cell_type": "code",
   "execution_count": 130,
   "id": "bb4880a1-4a7d-47aa-8038-deb3884183f9",
   "metadata": {},
   "outputs": [
    {
     "data": {
      "text/plain": [
       "3344    1\n",
       "114     0\n",
       "1816    0\n",
       "1594    0\n",
       "957     0\n",
       "Name: CreditCard, dtype: int64"
      ]
     },
     "execution_count": 130,
     "metadata": {},
     "output_type": "execute_result"
    }
   ],
   "source": [
    "y_train.head()"
   ]
  },
  {
   "cell_type": "code",
   "execution_count": 131,
   "id": "86658f42-9239-42d2-8015-05ae4934c34a",
   "metadata": {},
   "outputs": [
    {
     "name": "stdout",
     "output_type": "stream",
     "text": [
      "Logistic Regression accuracy score for CreditCard: 0.7410\n"
     ]
    }
   ],
   "source": [
    "from sklearn.linear_model import LogisticRegression\n",
    "from sklearn.metrics import accuracy_score\n",
    "logreg = LogisticRegression()\n",
    "logreg.fit(X_train, y_train)\n",
    "y_pred = logreg.predict(X_test)\n",
    "print('Logistic Regression accuracy score for CreditCard: {0:0.4f}'. format(accuracy_score(y_test, y_pred)))"
   ]
  },
  {
   "cell_type": "code",
   "execution_count": 132,
   "id": "de7709cc-b02a-4c60-92ed-f8e2e49a7344",
   "metadata": {},
   "outputs": [
    {
     "name": "stdout",
     "output_type": "stream",
     "text": [
      "The number of dimensions required to preserve 90% of variance is 8\n"
     ]
    }
   ],
   "source": [
    "pca= PCA()\n",
    "pca.fit(X_train)\n",
    "cumsum = np.cumsum(pca.explained_variance_ratio_)\n",
    "dim = np.argmax(cumsum >= 0.90) + 1\n",
    "print('The number of dimensions required to preserve 90% of variance is',dim)"
   ]
  },
  {
   "cell_type": "code",
   "execution_count": 136,
   "id": "f81c522f-b91f-4f48-8839-aa4d3e272a87",
   "metadata": {},
   "outputs": [
    {
     "data": {
      "image/png": "[encoded data removed]",
      "text/plain": [
       "<Figure size 800x600 with 1 Axes>"
      ]
     },
     "metadata": {},
     "output_type": "display_data"
    }
   ],
   "source": [
    "import matplotlib.pyplot as plt\n",
    "import numpy as np\n",
    "\n",
    "plt.figure(figsize=(8,6))\n",
    "plt.plot(np.cumsum(pca.explained_variance_ratio_))\n",
    "plt.xlim(0, 8)  # Corrected\n",
    "plt.xticks(range(0, 9, 1))  # Optional: Set tick intervals from 0 to 8\n",
    "plt.xlabel('Number of components')\n",
    "plt.ylabel('Cumulative explained variance')\n",
    "plt.title('PCA - Explained Variance')\n",
    "plt.grid(True)\n",
    "plt.show()"
   ]
  }
 ],
 "metadata": {
  "kernelspec": {
   "display_name": "pyvenvmain",
   "language": "python",
   "name": "pyvenvmain"
  },
  "language_info": {
   "codemirror_mode": {
    "name": "ipython",
    "version": 3
   },
   "file_extension": ".py",
   "mimetype": "text/x-python",
   "name": "python",
   "nbconvert_exporter": "python",
   "pygments_lexer": "ipython3",
   "version": "3.12.9"
  }
 },
 "nbformat": 4,
 "nbformat_minor": 5
}
